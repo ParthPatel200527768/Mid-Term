{
 "cells": [
  {
   "cell_type": "markdown",
   "id": "b20bce57",
   "metadata": {},
   "source": [
    "Question 5\n",
    "\n",
    "There is a table World in the attached SQL file. SQL.txt \n",
    "\n",
    "A country is big if it has an area of bigger than 3 million square km or a population of more than 25 million.\n",
    "\n",
    "Write a SQL solution to output big countries' name, population and area.\n",
    "\n",
    "In an ipython notebook create a sqlite3 database and a table called World. Insert the World data into your table (python + SQL syntax) and then proceed to write the big countries query. Your output does not need to be formatted like table, you may just print the countries with thier populations and areas.\n",
    "\n",
    "Upload your ipython notebook with output to this question. "
   ]
  },
  {
   "cell_type": "code",
   "execution_count": 5,
   "id": "459b35e0",
   "metadata": {},
   "outputs": [],
   "source": [
    "# Connections and creations\n",
    "import sqlite3\n",
    "connection = sqlite3.connect('world.db')"
   ]
  },
  {
   "cell_type": "code",
   "execution_count": 8,
   "id": "bed8d419",
   "metadata": {},
   "outputs": [
    {
     "data": {
      "text/plain": [
       "<sqlite3.Cursor at 0x215bad8e1f0>"
      ]
     },
     "execution_count": 8,
     "metadata": {},
     "output_type": "execute_result"
    }
   ],
   "source": [
    "# creating field name, continent, area, population and gdp\n",
    "connection.execute('''CREATE TABLE world (name TEXT NOT NULL, continent TEXT NOT NULL, area INTEGER NOT NULL, population INTEGER NOT NULL, gdp INTEGER NOT NULL)''')\n"
   ]
  },
  {
   "cell_type": "code",
   "execution_count": 9,
   "id": "bb84cccc",
   "metadata": {},
   "outputs": [
    {
     "data": {
      "text/plain": [
       "<sqlite3.Cursor at 0x215bad8e030>"
      ]
     },
     "execution_count": 9,
     "metadata": {},
     "output_type": "execute_result"
    }
   ],
   "source": [
    "# Data insertion\n",
    "connection.execute(\"INSERT INTO World VALUES ('Afghanistan', 'Asia', 652230, 25500100, 20343000)\")"
   ]
  },
  {
   "cell_type": "code",
   "execution_count": 10,
   "id": "45d4d2fb",
   "metadata": {},
   "outputs": [
    {
     "data": {
      "text/plain": [
       "<sqlite3.Cursor at 0x215bad8e490>"
      ]
     },
     "execution_count": 10,
     "metadata": {},
     "output_type": "execute_result"
    }
   ],
   "source": [
    "connection.execute(\"INSERT INTO World VALUES ('Albania', 'Europe', 28748, 2831741, 12960000)\")"
   ]
  },
  {
   "cell_type": "code",
   "execution_count": 11,
   "id": "e4089a0e",
   "metadata": {},
   "outputs": [
    {
     "data": {
      "text/plain": [
       "<sqlite3.Cursor at 0x215bad8e650>"
      ]
     },
     "execution_count": 11,
     "metadata": {},
     "output_type": "execute_result"
    }
   ],
   "source": [
    "connection.execute(\"INSERT INTO World VALUES ('Algeria', 'Africa', 2381741, 37100000, 188681000)\")"
   ]
  },
  {
   "cell_type": "code",
   "execution_count": 12,
   "id": "47c91315",
   "metadata": {},
   "outputs": [
    {
     "data": {
      "text/plain": [
       "<sqlite3.Cursor at 0x215bad8e5e0>"
      ]
     },
     "execution_count": 12,
     "metadata": {},
     "output_type": "execute_result"
    }
   ],
   "source": [
    "connection.execute(\"INSERT INTO World VALUES ('Andorra', 'Europe', 468, 78115, 3712000)\")"
   ]
  },
  {
   "cell_type": "code",
   "execution_count": 13,
   "id": "9e629ffa",
   "metadata": {},
   "outputs": [
    {
     "data": {
      "text/plain": [
       "<sqlite3.Cursor at 0x215bad8e8f0>"
      ]
     },
     "execution_count": 13,
     "metadata": {},
     "output_type": "execute_result"
    }
   ],
   "source": [
    "connection.execute(\"INSERT INTO World VALUES ('Angola', 'Africa', 1246700, 20609294, 100990000)\")"
   ]
  },
  {
   "cell_type": "code",
   "execution_count": 14,
   "id": "708e2e35",
   "metadata": {},
   "outputs": [],
   "source": [
    "# Changes will be stored permanently in the created Database(World.db)\n",
    "connection.commit()"
   ]
  },
  {
   "cell_type": "code",
   "execution_count": 15,
   "id": "019af514",
   "metadata": {},
   "outputs": [
    {
     "name": "stdout",
     "output_type": "stream",
     "text": [
      "('Afghanistan', 25500100, 652230)\n",
      "('Algeria', 37100000, 2381741)\n"
     ]
    }
   ],
   "source": [
    "# Finding the big Countries having area bigger than 3M square km or population more than 25M.\n",
    "bigCoun = connection.execute('SELECT name, population, area FROM World WHERE area > 3000000 OR population > 25000000').fetchall()\n",
    "for country in bigCoun:\n",
    "    print(country)"
   ]
  },
  {
   "cell_type": "code",
   "execution_count": null,
   "id": "ed3ae51e",
   "metadata": {},
   "outputs": [],
   "source": []
  }
 ],
 "metadata": {
  "kernelspec": {
   "display_name": "Python 3 (ipykernel)",
   "language": "python",
   "name": "python3"
  },
  "language_info": {
   "codemirror_mode": {
    "name": "ipython",
    "version": 3
   },
   "file_extension": ".py",
   "mimetype": "text/x-python",
   "name": "python",
   "nbconvert_exporter": "python",
   "pygments_lexer": "ipython3",
   "version": "3.9.13"
  }
 },
 "nbformat": 4,
 "nbformat_minor": 5
}
