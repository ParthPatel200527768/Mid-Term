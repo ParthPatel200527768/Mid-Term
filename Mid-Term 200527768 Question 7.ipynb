{
 "cells": [
  {
   "cell_type": "markdown",
   "id": "49f13170",
   "metadata": {},
   "source": [
    "Question 7\n",
    "\n",
    "In a jupyter notebook, implement a recursive function anagrams() that computes anagrams of a given word.\n",
    "\n",
    "An anagram of word A is word B that can be formed by re-arranging the letters of A. For example, the word pot is the anagram of the word top. Your function will take as an input the name of a file of words and as well a word, and print all the words in the file that are anagrams of the input word. Used the attached file words.txt as your file of words. \n",
    "\n",
    "words.txt"
   ]
  },
  {
   "cell_type": "code",
   "execution_count": 5,
   "id": "2212ed29",
   "metadata": {},
   "outputs": [],
   "source": [
    "def anagrams(file, word):\n",
    "    # file opening and storing the content into the list\n",
    "    with open(file, 'r') as f:\n",
    "        words = [line.strip() for line in f]\n",
    "\n",
    "    # initiating recursive function\n",
    "    def searchAnagrams(prefix, remains):\n",
    "        \n",
    "        # check for the validity of the word, after charaters are over\n",
    "        if not remains:\n",
    "            if prefix in words:\n",
    "                print(prefix)\n",
    "                \n",
    "        \n",
    "        else:\n",
    "            for i in range(len(remains)):\n",
    "                next_char = remains[i]\n",
    "                # Avoid duplicate permutations by skipping identical characters\n",
    "                if i > 0 and remains[i-1] == next_char:\n",
    "                    continue\n",
    "                searchAnagrams(prefix + next_char, remains[:i] + remains[i+1:])\n",
    "\n",
    "    # anagram for the input word\n",
    "    searchAnagrams('', word)"
   ]
  },
  {
   "cell_type": "code",
   "execution_count": 6,
   "id": "66bbcb96",
   "metadata": {},
   "outputs": [
    {
     "name": "stdout",
     "output_type": "stream",
     "text": [
      "react\n",
      "crate\n",
      "cater\n"
     ]
    }
   ],
   "source": [
    "anagrams('words.txt', 'trace')"
   ]
  },
  {
   "cell_type": "code",
   "execution_count": null,
   "id": "863aa1b5",
   "metadata": {},
   "outputs": [],
   "source": []
  }
 ],
 "metadata": {
  "kernelspec": {
   "display_name": "Python 3 (ipykernel)",
   "language": "python",
   "name": "python3"
  },
  "language_info": {
   "codemirror_mode": {
    "name": "ipython",
    "version": 3
   },
   "file_extension": ".py",
   "mimetype": "text/x-python",
   "name": "python",
   "nbconvert_exporter": "python",
   "pygments_lexer": "ipython3",
   "version": "3.9.13"
  }
 },
 "nbformat": 4,
 "nbformat_minor": 5
}
