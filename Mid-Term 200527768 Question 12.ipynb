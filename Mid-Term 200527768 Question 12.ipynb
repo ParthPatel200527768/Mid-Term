{
 "cells": [
  {
   "cell_type": "markdown",
   "id": "b3163a9b",
   "metadata": {},
   "source": [
    "Question: 12 \n",
    "\n",
    "In an ipython notebook ,write a container class called PriorityQueue. The class should support the methods:\n",
    "\n",
    "__init__(): initializes empty priority queue\n",
    "\n",
    "a) insert(): Tales a number as input and add it to the container\n",
    "\n",
    "b) min(): Returns the smallest number in the container\n",
    "\n",
    "c) removeMin(): Removes the smallest number in the container\n",
    "\n",
    "d) isEmpty(): Returns a True if the container is empty False otherwise.\n",
    "\n",
    "e) The overloaded operator len() should also be supported"
   ]
  },
  {
   "cell_type": "code",
   "execution_count": 80,
   "id": "25bb9064",
   "metadata": {},
   "outputs": [],
   "source": [
    "class PriorityQueue:\n",
    "    def __init__(self):\n",
    "        self.items = []\n",
    "\n",
    "    def insert(self, item):\n",
    "# adding given numbers in array\n",
    "        self.items.append(item)\n",
    "        print(self.items)\n",
    "\n",
    "    def min(self):\n",
    "# fetching the minimum element among the array\n",
    "        print(\"The minimum among all the given numbers is: \",min(self.items))\n",
    "\n",
    "    def removeMin(self):\n",
    "# will remove the minimum number\n",
    "            self.items.remove(min(self.items))\n",
    "            print(\"Removed item\", min(self.items))\n",
    "\n",
    "    def isEmpty(self):\n",
    "# check for empty array\n",
    "        if(len(self.items) == 0):\n",
    "            print(\"Array is empty!!\")\n",
    "        else:\n",
    "            print(\"Array is not empty and the length of the present array is: \", len(self.items))\n",
    "            #         return len(self.items) == 0\n",
    "            \n",
    "\n",
    "    def __len__(self):\n",
    "        return len(self.items)"
   ]
  },
  {
   "cell_type": "code",
   "execution_count": 81,
   "id": "1adfaa6f",
   "metadata": {},
   "outputs": [
    {
     "name": "stdout",
     "output_type": "stream",
     "text": [
      "[3]\n",
      "[3, 1]\n",
      "[3, 1, 5]\n",
      "[3, 1, 5, 2]\n",
      "The minimum among all the given numbers is:  1\n"
     ]
    }
   ],
   "source": [
    "pq = PriorityQueue()\n",
    "pq.insert(3)\n",
    "pq.insert(1)  \n",
    "pq.insert(5)   \n",
    "pq.insert(2)  \n",
    "pq.min()"
   ]
  },
  {
   "cell_type": "code",
   "execution_count": 82,
   "id": "70a65c71",
   "metadata": {},
   "outputs": [
    {
     "name": "stdout",
     "output_type": "stream",
     "text": [
      "Removed item 2\n"
     ]
    }
   ],
   "source": [
    "pq.removeMin()"
   ]
  },
  {
   "cell_type": "code",
   "execution_count": 83,
   "id": "87d10924",
   "metadata": {},
   "outputs": [
    {
     "name": "stdout",
     "output_type": "stream",
     "text": [
      "The minimum among all the given numbers is:  2\n"
     ]
    }
   ],
   "source": [
    "pq.min()"
   ]
  },
  {
   "cell_type": "code",
   "execution_count": 84,
   "id": "bb336056",
   "metadata": {},
   "outputs": [
    {
     "data": {
      "text/plain": [
       "3"
      ]
     },
     "execution_count": 84,
     "metadata": {},
     "output_type": "execute_result"
    }
   ],
   "source": [
    "len(pq)"
   ]
  },
  {
   "cell_type": "code",
   "execution_count": 85,
   "id": "f310e024",
   "metadata": {},
   "outputs": [
    {
     "name": "stdout",
     "output_type": "stream",
     "text": [
      "Array is not empty and the length of the present array is:  3\n"
     ]
    }
   ],
   "source": [
    "pq.isEmpty()"
   ]
  }
 ],
 "metadata": {
  "kernelspec": {
   "display_name": "Python 3 (ipykernel)",
   "language": "python",
   "name": "python3"
  },
  "language_info": {
   "codemirror_mode": {
    "name": "ipython",
    "version": 3
   },
   "file_extension": ".py",
   "mimetype": "text/x-python",
   "name": "python",
   "nbconvert_exporter": "python",
   "pygments_lexer": "ipython3",
   "version": "3.9.13"
  }
 },
 "nbformat": 4,
 "nbformat_minor": 5
}
